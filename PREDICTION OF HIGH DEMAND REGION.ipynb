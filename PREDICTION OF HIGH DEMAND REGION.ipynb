{
 "cells": [
  {
   "cell_type": "code",
   "execution_count": 3,
   "id": "b75bdb7d",
   "metadata": {},
   "outputs": [],
   "source": [
    "#Import required libraries\n",
    "import pyodbc # SQL library\n",
    "import pandas as pd # Dataframes\n",
    "import numpy as np # Arrays\n",
    "import matplotlib.pyplot as plt #Graphs\n",
    "from datetime import date\n",
    "import ydata_profiling\n",
    "import plotly.offline as po\n",
    "import plotly.graph_objs as go\n",
    "%matplotlib inline\n",
    "plt.style.use('ggplot') #gglot style\n",
    "import seaborn as sns #Enhanced plot library\n",
    "from sklearn.preprocessing import StandardScaler\n",
    "from sklearn.preprocessing import LabelEncoder\n",
    "from sklearn.preprocessing import RobustScaler # To scale data\n",
    "from sklearn.cluster import KMeans #K-means clustering\n",
    "from sklearn.metrics import roc_curve\n",
    "from sklearn.model_selection import train_test_split  # To randomly split the dataset\n",
    "### from xverse.transformer import WOE # To perform Weight of Evidence for feature selection\n",
    "from sklearn.ensemble import RandomForestClassifier # Random Forest\n",
    "from sklearn.metrics import accuracy_score # Accuracy for model assessment\n",
    "from sklearn.feature_selection import RFE # Recursive Feature Elimination \n",
    "from sklearn.linear_model import LogisticRegression #Logistic Regression\n",
    "from sklearn.linear_model import LinearRegression\n",
    "from sklearn.ensemble import ExtraTreesClassifier #Extra Trees\n",
    "from sklearn.feature_selection import SelectKBest, chi2 # K best and Chi squre\n",
    "from sklearn.svm import LinearSVC #Linear SVC for L1 featrue selection \n",
    "from sklearn.feature_selection import SelectFromModel #L1 feature selection \n",
    "from functools import reduce # To merge dataframes\n",
    "from statsmodels.stats.outliers_influence import variance_inflation_factor #Multicollinearity check\n",
    "from sklearn.tree import DecisionTreeClassifier #Decision Tree\n",
    "from sklearn.ensemble import GradientBoostingClassifier #Gradient Boosting\n",
    "from sklearn.metrics import fbeta_score #fbeta score for model assessment\n",
    "from sklearn.discriminant_analysis import LinearDiscriminantAnalysis #LDA\n",
    "from sklearn.neighbors import KNeighborsClassifier #KNN\n",
    "from sklearn.neural_network import MLPClassifier #Newral Network\n",
    "from sklearn.naive_bayes import GaussianNB # Naive Bayes\n",
    "from sklearn.preprocessing import MinMaxScaler #To scale data for SVC\n",
    "from sklearn.svm import SVC #Support Vector Machine\n",
    "from sklearn.model_selection import validation_curve, StratifiedKFold,GridSearchCV\n",
    "from sklearn.metrics import confusion_matrix, classification_report # For model evaluation \n",
    "import joblib\n",
    "#from sklearn.externals import joblib # To save the final model\n",
    "import mlxtend as ml #Market Basket Analysis\n",
    "from mlxtend.frequent_patterns import apriori # To extract frequent itemsets for MBA\n",
    "from mlxtend.frequent_patterns import association_rules # To create the MBA rules\n",
    "from datetime import timedelta #To define potential churn date\n",
    "from warnings import simplefilter #Warning filter\n",
    "#from sklearn.metrics import plot_confusion_matrix\n",
    "from sklearn.metrics import accuracy_score, roc_auc_score, confusion_matrix, precision_score, recall_score, classification_report\n"
   ]
  },
  {
   "cell_type": "code",
   "execution_count": 4,
   "id": "39767c69",
   "metadata": {},
   "outputs": [],
   "source": [
    "# iGNORING THE WARNINGS\n",
    "#import sys\n",
    "\n",
    "#if not sys.warnoptions:\n",
    " #   import warnings\n",
    "  #  warnings.simplefilter(\"ignore\")"
   ]
  },
  {
   "cell_type": "code",
   "execution_count": 5,
   "id": "179bf707",
   "metadata": {},
   "outputs": [],
   "source": [
    "#Connection to SQL\n",
    "conn = pyodbc.connect('Driver={SQL Server};'\n",
    "                      'Server=DESKTOP-P46BCFH;'\n",
    "                      'Database=WideWorldImporters;'\n",
    "                      'Trust_Connection= yes;')\n"
   ]
  },
  {
   "cell_type": "code",
   "execution_count": 6,
   "id": "2ef1f4ba",
   "metadata": {},
   "outputs": [
    {
     "name": "stderr",
     "output_type": "stream",
     "text": [
      "C:\\Users\\USER\\AppData\\Local\\Temp\\ipykernel_12844\\3781075793.py:2: UserWarning:\n",
      "\n",
      "pandas only supports SQLAlchemy connectable (engine/connection) or database string URI or sqlite3 DBAPI2 connection. Other DBAPI2 objects are not tested. Please consider using SQLAlchemy.\n",
      "\n"
     ]
    }
   ],
   "source": [
    "#SQL query; Transactional data\n",
    "data=pd.read_sql_query(\"\"\"SELECT \n",
    "                                [P].[StateProvinceID],\n",
    "                                [O].[OrderDate],\n",
    "                                [P].[StateProvinceName] AS _State,\n",
    "                                [SG].[StockGroupName] AS Product_Cat,\n",
    "                                [SG].[StockGroupID] AS Product_CatID,\n",
    "                                COUNT(OL.StockItemID) AS Demand\n",
    "                                FROM [Sales].[Customers] C\n",
    "                                JOIN [Sales].[Invoices] S ON [C].[CustomerID] = [S].[CustomerID]\n",
    "                                JOIN [Sales].[Orders] O ON [S].[CustomerID] = [O].[CustomerID]\n",
    "                                JOIN [Sales].[OrderLines] OL ON [S].[OrderID] = OL.[OrderID]\n",
    "                                JOIN [Application].[Cities] R ON [C].[DeliveryCityID] = [R].[CityID]\n",
    "                                JOIN [Application].[StateProvinces] P on [R].[StateProvinceID] = [P].[StateProvinceID]\n",
    "                                JOIN [Warehouse].[StockItemStockGroups] SIS on [OL].[StockItemID] = [SIS].[StockItemID]\n",
    "                                JOIN [Warehouse].[StockGroups] SG on [SIS].[StockGroupID] = [SG].[StockGroupID]\n",
    "                                GROUP BY [SG].[StockGroupName], [P].[StateProvinceName], [O].[OrderDate],[P].[StateProvinceID],[SG].[StockGroupID]\n",
    "                                Having [O].[OrderDate] >= DATEADD(YEAR, -3, MAX([O].[OrderDate]))\n",
    "                                ORDER BY Demand DESC; \"\"\", conn)\n",
    "\n",
    "conn.close()"
   ]
  },
  {
   "cell_type": "markdown",
   "id": "b0217177",
   "metadata": {},
   "source": [
    "### Data pre-processing\n"
   ]
  },
  {
   "cell_type": "code",
   "execution_count": 7,
   "id": "49a89165",
   "metadata": {},
   "outputs": [
    {
     "data": {
      "text/html": [
       "<div>\n",
       "<style scoped>\n",
       "    .dataframe tbody tr th:only-of-type {\n",
       "        vertical-align: middle;\n",
       "    }\n",
       "\n",
       "    .dataframe tbody tr th {\n",
       "        vertical-align: top;\n",
       "    }\n",
       "\n",
       "    .dataframe thead th {\n",
       "        text-align: right;\n",
       "    }\n",
       "</style>\n",
       "<table border=\"1\" class=\"dataframe\">\n",
       "  <thead>\n",
       "    <tr style=\"text-align: right;\">\n",
       "      <th></th>\n",
       "      <th>StateProvinceID</th>\n",
       "      <th>OrderDate</th>\n",
       "      <th>_State</th>\n",
       "      <th>Product_Cat</th>\n",
       "      <th>Product_CatID</th>\n",
       "      <th>Demand</th>\n",
       "    </tr>\n",
       "  </thead>\n",
       "  <tbody>\n",
       "    <tr>\n",
       "      <th>0</th>\n",
       "      <td>45</td>\n",
       "      <td>2013-11-06</td>\n",
       "      <td>Texas</td>\n",
       "      <td>Novelty Items</td>\n",
       "      <td>1</td>\n",
       "      <td>2440</td>\n",
       "    </tr>\n",
       "    <tr>\n",
       "      <th>1</th>\n",
       "      <td>45</td>\n",
       "      <td>2013-11-06</td>\n",
       "      <td>Texas</td>\n",
       "      <td>Computing Novelties</td>\n",
       "      <td>6</td>\n",
       "      <td>2401</td>\n",
       "    </tr>\n",
       "    <tr>\n",
       "      <th>2</th>\n",
       "      <td>45</td>\n",
       "      <td>2015-10-19</td>\n",
       "      <td>Texas</td>\n",
       "      <td>Novelty Items</td>\n",
       "      <td>1</td>\n",
       "      <td>2209</td>\n",
       "    </tr>\n",
       "    <tr>\n",
       "      <th>3</th>\n",
       "      <td>45</td>\n",
       "      <td>2014-04-23</td>\n",
       "      <td>Texas</td>\n",
       "      <td>Novelty Items</td>\n",
       "      <td>1</td>\n",
       "      <td>2204</td>\n",
       "    </tr>\n",
       "    <tr>\n",
       "      <th>4</th>\n",
       "      <td>45</td>\n",
       "      <td>2015-04-23</td>\n",
       "      <td>Texas</td>\n",
       "      <td>Novelty Items</td>\n",
       "      <td>1</td>\n",
       "      <td>2187</td>\n",
       "    </tr>\n",
       "  </tbody>\n",
       "</table>\n",
       "</div>"
      ],
      "text/plain": [
       "   StateProvinceID   OrderDate _State          Product_Cat  Product_CatID  \\\n",
       "0               45  2013-11-06  Texas        Novelty Items              1   \n",
       "1               45  2013-11-06  Texas  Computing Novelties              6   \n",
       "2               45  2015-10-19  Texas        Novelty Items              1   \n",
       "3               45  2014-04-23  Texas        Novelty Items              1   \n",
       "4               45  2015-04-23  Texas        Novelty Items              1   \n",
       "\n",
       "   Demand  \n",
       "0    2440  \n",
       "1    2401  \n",
       "2    2209  \n",
       "3    2204  \n",
       "4    2187  "
      ]
     },
     "execution_count": 7,
     "metadata": {},
     "output_type": "execute_result"
    }
   ],
   "source": [
    "data.head()"
   ]
  },
  {
   "cell_type": "code",
   "execution_count": 8,
   "id": "fff06eff",
   "metadata": {},
   "outputs": [
    {
     "data": {
      "text/plain": [
       "(292381, 6)"
      ]
     },
     "execution_count": 8,
     "metadata": {},
     "output_type": "execute_result"
    }
   ],
   "source": [
    "data.shape"
   ]
  },
  {
   "cell_type": "code",
   "execution_count": 9,
   "id": "40df00d6",
   "metadata": {},
   "outputs": [
    {
     "name": "stdout",
     "output_type": "stream",
     "text": [
      "<class 'pandas.core.frame.DataFrame'>\n",
      "RangeIndex: 292381 entries, 0 to 292380\n",
      "Data columns (total 6 columns):\n",
      " #   Column           Non-Null Count   Dtype \n",
      "---  ------           --------------   ----- \n",
      " 0   StateProvinceID  292381 non-null  int64 \n",
      " 1   OrderDate        292381 non-null  object\n",
      " 2   _State           292381 non-null  object\n",
      " 3   Product_Cat      292381 non-null  object\n",
      " 4   Product_CatID    292381 non-null  int64 \n",
      " 5   Demand           292381 non-null  int64 \n",
      "dtypes: int64(3), object(3)\n",
      "memory usage: 13.4+ MB\n"
     ]
    }
   ],
   "source": [
    "#Overview\n",
    "data.info()"
   ]
  },
  {
   "cell_type": "code",
   "execution_count": 10,
   "id": "ca2b714d",
   "metadata": {
    "scrolled": true
   },
   "outputs": [
    {
     "data": {
      "text/plain": [
       "count    292381.000000\n",
       "mean        176.867584\n",
       "std         178.973830\n",
       "min           1.000000\n",
       "25%          63.000000\n",
       "50%         121.000000\n",
       "75%         232.000000\n",
       "max        2440.000000\n",
       "Name: Demand, dtype: float64"
      ]
     },
     "execution_count": 10,
     "metadata": {},
     "output_type": "execute_result"
    }
   ],
   "source": [
    "data.Demand.describe() #basis statistics"
   ]
  },
  {
   "cell_type": "markdown",
   "id": "572d5fba",
   "metadata": {},
   "source": [
    "### Demand Classification"
   ]
  },
  {
   "cell_type": "code",
   "execution_count": 11,
   "id": "669bad61",
   "metadata": {},
   "outputs": [],
   "source": [
    "data[\"HighOLow\"] = data.Demand.map(lambda val: 0 if val <= 121  else 1)\n",
    "\n",
    "#High demand region = 1 , low demand region = 0"
   ]
  },
  {
   "cell_type": "code",
   "execution_count": 12,
   "id": "686131fc",
   "metadata": {},
   "outputs": [
    {
     "data": {
      "text/html": [
       "<div>\n",
       "<style scoped>\n",
       "    .dataframe tbody tr th:only-of-type {\n",
       "        vertical-align: middle;\n",
       "    }\n",
       "\n",
       "    .dataframe tbody tr th {\n",
       "        vertical-align: top;\n",
       "    }\n",
       "\n",
       "    .dataframe thead th {\n",
       "        text-align: right;\n",
       "    }\n",
       "</style>\n",
       "<table border=\"1\" class=\"dataframe\">\n",
       "  <thead>\n",
       "    <tr style=\"text-align: right;\">\n",
       "      <th></th>\n",
       "      <th>StateProvinceID</th>\n",
       "      <th>OrderDate</th>\n",
       "      <th>_State</th>\n",
       "      <th>Product_Cat</th>\n",
       "      <th>Product_CatID</th>\n",
       "      <th>Demand</th>\n",
       "      <th>HighOLow</th>\n",
       "    </tr>\n",
       "  </thead>\n",
       "  <tbody>\n",
       "    <tr>\n",
       "      <th>0</th>\n",
       "      <td>45</td>\n",
       "      <td>2013-11-06</td>\n",
       "      <td>Texas</td>\n",
       "      <td>Novelty Items</td>\n",
       "      <td>1</td>\n",
       "      <td>2440</td>\n",
       "      <td>1</td>\n",
       "    </tr>\n",
       "    <tr>\n",
       "      <th>1</th>\n",
       "      <td>45</td>\n",
       "      <td>2013-11-06</td>\n",
       "      <td>Texas</td>\n",
       "      <td>Computing Novelties</td>\n",
       "      <td>6</td>\n",
       "      <td>2401</td>\n",
       "      <td>1</td>\n",
       "    </tr>\n",
       "    <tr>\n",
       "      <th>2</th>\n",
       "      <td>45</td>\n",
       "      <td>2015-10-19</td>\n",
       "      <td>Texas</td>\n",
       "      <td>Novelty Items</td>\n",
       "      <td>1</td>\n",
       "      <td>2209</td>\n",
       "      <td>1</td>\n",
       "    </tr>\n",
       "    <tr>\n",
       "      <th>3</th>\n",
       "      <td>45</td>\n",
       "      <td>2014-04-23</td>\n",
       "      <td>Texas</td>\n",
       "      <td>Novelty Items</td>\n",
       "      <td>1</td>\n",
       "      <td>2204</td>\n",
       "      <td>1</td>\n",
       "    </tr>\n",
       "    <tr>\n",
       "      <th>4</th>\n",
       "      <td>45</td>\n",
       "      <td>2015-04-23</td>\n",
       "      <td>Texas</td>\n",
       "      <td>Novelty Items</td>\n",
       "      <td>1</td>\n",
       "      <td>2187</td>\n",
       "      <td>1</td>\n",
       "    </tr>\n",
       "  </tbody>\n",
       "</table>\n",
       "</div>"
      ],
      "text/plain": [
       "   StateProvinceID   OrderDate _State          Product_Cat  Product_CatID  \\\n",
       "0               45  2013-11-06  Texas        Novelty Items              1   \n",
       "1               45  2013-11-06  Texas  Computing Novelties              6   \n",
       "2               45  2015-10-19  Texas        Novelty Items              1   \n",
       "3               45  2014-04-23  Texas        Novelty Items              1   \n",
       "4               45  2015-04-23  Texas        Novelty Items              1   \n",
       "\n",
       "   Demand  HighOLow  \n",
       "0    2440         1  \n",
       "1    2401         1  \n",
       "2    2209         1  \n",
       "3    2204         1  \n",
       "4    2187         1  "
      ]
     },
     "execution_count": 12,
     "metadata": {},
     "output_type": "execute_result"
    }
   ],
   "source": [
    "data.head()"
   ]
  },
  {
   "cell_type": "code",
   "execution_count": 13,
   "id": "79f8651d",
   "metadata": {},
   "outputs": [
    {
     "name": "stdout",
     "output_type": "stream",
     "text": [
      "Number of duplicates: 0\n"
     ]
    }
   ],
   "source": [
    "#Checking for potential duplicate rows\n",
    "print('Number of duplicates:', data.duplicated().sum())"
   ]
  },
  {
   "cell_type": "code",
   "execution_count": 14,
   "id": "8e25b4bf",
   "metadata": {},
   "outputs": [
    {
     "data": {
      "text/plain": [
       "Index(['StateProvinceID', 'OrderDate', '_State', 'Product_Cat',\n",
       "       'Product_CatID', 'Demand', 'HighOLow'],\n",
       "      dtype='object')"
      ]
     },
     "execution_count": 14,
     "metadata": {},
     "output_type": "execute_result"
    }
   ],
   "source": [
    "data.columns"
   ]
  },
  {
   "cell_type": "code",
   "execution_count": 15,
   "id": "e32f1ffa",
   "metadata": {},
   "outputs": [
    {
     "data": {
      "text/plain": [
       "StateProvinceID    0\n",
       "OrderDate          0\n",
       "_State             0\n",
       "Product_Cat        0\n",
       "Product_CatID      0\n",
       "Demand             0\n",
       "HighOLow           0\n",
       "dtype: int64"
      ]
     },
     "execution_count": 15,
     "metadata": {},
     "output_type": "execute_result"
    }
   ],
   "source": [
    "data.isnull().sum()"
   ]
  },
  {
   "cell_type": "markdown",
   "id": "8d1b6b3e",
   "metadata": {},
   "source": [
    "### Feature Engineering/Data Wrangling"
   ]
  },
  {
   "cell_type": "code",
   "execution_count": 16,
   "id": "0595fc7f",
   "metadata": {},
   "outputs": [
    {
     "name": "stdout",
     "output_type": "stream",
     "text": [
      "<class 'pandas.core.frame.DataFrame'>\n",
      "RangeIndex: 292381 entries, 0 to 292380\n",
      "Data columns (total 7 columns):\n",
      " #   Column           Non-Null Count   Dtype \n",
      "---  ------           --------------   ----- \n",
      " 0   StateProvinceID  292381 non-null  int64 \n",
      " 1   OrderDate        292381 non-null  object\n",
      " 2   _State           292381 non-null  object\n",
      " 3   Product_Cat      292381 non-null  object\n",
      " 4   Product_CatID    292381 non-null  int64 \n",
      " 5   Demand           292381 non-null  int64 \n",
      " 6   HighOLow         292381 non-null  int64 \n",
      "dtypes: int64(4), object(3)\n",
      "memory usage: 15.6+ MB\n"
     ]
    }
   ],
   "source": [
    "data.info()"
   ]
  },
  {
   "cell_type": "code",
   "execution_count": 17,
   "id": "23cca6aa",
   "metadata": {},
   "outputs": [],
   "source": [
    "data.rename({'_State': 'Region'},\n",
    "                   axis=1, inplace=True)"
   ]
  },
  {
   "cell_type": "code",
   "execution_count": 18,
   "id": "f0dc9475",
   "metadata": {},
   "outputs": [
    {
     "data": {
      "text/html": [
       "<div>\n",
       "<style scoped>\n",
       "    .dataframe tbody tr th:only-of-type {\n",
       "        vertical-align: middle;\n",
       "    }\n",
       "\n",
       "    .dataframe tbody tr th {\n",
       "        vertical-align: top;\n",
       "    }\n",
       "\n",
       "    .dataframe thead th {\n",
       "        text-align: right;\n",
       "    }\n",
       "</style>\n",
       "<table border=\"1\" class=\"dataframe\">\n",
       "  <thead>\n",
       "    <tr style=\"text-align: right;\">\n",
       "      <th></th>\n",
       "      <th>StateProvinceID</th>\n",
       "      <th>OrderDate</th>\n",
       "      <th>Region</th>\n",
       "      <th>Product_Cat</th>\n",
       "      <th>Product_CatID</th>\n",
       "      <th>Demand</th>\n",
       "      <th>HighOLow</th>\n",
       "    </tr>\n",
       "  </thead>\n",
       "  <tbody>\n",
       "    <tr>\n",
       "      <th>0</th>\n",
       "      <td>45</td>\n",
       "      <td>2013-11-06</td>\n",
       "      <td>Texas</td>\n",
       "      <td>Novelty Items</td>\n",
       "      <td>1</td>\n",
       "      <td>2440</td>\n",
       "      <td>1</td>\n",
       "    </tr>\n",
       "    <tr>\n",
       "      <th>1</th>\n",
       "      <td>45</td>\n",
       "      <td>2013-11-06</td>\n",
       "      <td>Texas</td>\n",
       "      <td>Computing Novelties</td>\n",
       "      <td>6</td>\n",
       "      <td>2401</td>\n",
       "      <td>1</td>\n",
       "    </tr>\n",
       "    <tr>\n",
       "      <th>2</th>\n",
       "      <td>45</td>\n",
       "      <td>2015-10-19</td>\n",
       "      <td>Texas</td>\n",
       "      <td>Novelty Items</td>\n",
       "      <td>1</td>\n",
       "      <td>2209</td>\n",
       "      <td>1</td>\n",
       "    </tr>\n",
       "    <tr>\n",
       "      <th>3</th>\n",
       "      <td>45</td>\n",
       "      <td>2014-04-23</td>\n",
       "      <td>Texas</td>\n",
       "      <td>Novelty Items</td>\n",
       "      <td>1</td>\n",
       "      <td>2204</td>\n",
       "      <td>1</td>\n",
       "    </tr>\n",
       "    <tr>\n",
       "      <th>4</th>\n",
       "      <td>45</td>\n",
       "      <td>2015-04-23</td>\n",
       "      <td>Texas</td>\n",
       "      <td>Novelty Items</td>\n",
       "      <td>1</td>\n",
       "      <td>2187</td>\n",
       "      <td>1</td>\n",
       "    </tr>\n",
       "  </tbody>\n",
       "</table>\n",
       "</div>"
      ],
      "text/plain": [
       "   StateProvinceID   OrderDate Region          Product_Cat  Product_CatID  \\\n",
       "0               45  2013-11-06  Texas        Novelty Items              1   \n",
       "1               45  2013-11-06  Texas  Computing Novelties              6   \n",
       "2               45  2015-10-19  Texas        Novelty Items              1   \n",
       "3               45  2014-04-23  Texas        Novelty Items              1   \n",
       "4               45  2015-04-23  Texas        Novelty Items              1   \n",
       "\n",
       "   Demand  HighOLow  \n",
       "0    2440         1  \n",
       "1    2401         1  \n",
       "2    2209         1  \n",
       "3    2204         1  \n",
       "4    2187         1  "
      ]
     },
     "execution_count": 18,
     "metadata": {},
     "output_type": "execute_result"
    }
   ],
   "source": [
    "data.head()"
   ]
  },
  {
   "cell_type": "code",
   "execution_count": 19,
   "id": "ce973ff1",
   "metadata": {},
   "outputs": [],
   "source": [
    "data.drop(['Product_CatID','OrderDate'], axis=1, inplace=True)"
   ]
  },
  {
   "cell_type": "code",
   "execution_count": 20,
   "id": "39f90940",
   "metadata": {},
   "outputs": [
    {
     "data": {
      "text/html": [
       "<div>\n",
       "<style scoped>\n",
       "    .dataframe tbody tr th:only-of-type {\n",
       "        vertical-align: middle;\n",
       "    }\n",
       "\n",
       "    .dataframe tbody tr th {\n",
       "        vertical-align: top;\n",
       "    }\n",
       "\n",
       "    .dataframe thead th {\n",
       "        text-align: right;\n",
       "    }\n",
       "</style>\n",
       "<table border=\"1\" class=\"dataframe\">\n",
       "  <thead>\n",
       "    <tr style=\"text-align: right;\">\n",
       "      <th></th>\n",
       "      <th>StateProvinceID</th>\n",
       "      <th>Region</th>\n",
       "      <th>Product_Cat</th>\n",
       "      <th>Demand</th>\n",
       "      <th>HighOLow</th>\n",
       "    </tr>\n",
       "  </thead>\n",
       "  <tbody>\n",
       "    <tr>\n",
       "      <th>0</th>\n",
       "      <td>45</td>\n",
       "      <td>Texas</td>\n",
       "      <td>Novelty Items</td>\n",
       "      <td>2440</td>\n",
       "      <td>1</td>\n",
       "    </tr>\n",
       "    <tr>\n",
       "      <th>1</th>\n",
       "      <td>45</td>\n",
       "      <td>Texas</td>\n",
       "      <td>Computing Novelties</td>\n",
       "      <td>2401</td>\n",
       "      <td>1</td>\n",
       "    </tr>\n",
       "    <tr>\n",
       "      <th>2</th>\n",
       "      <td>45</td>\n",
       "      <td>Texas</td>\n",
       "      <td>Novelty Items</td>\n",
       "      <td>2209</td>\n",
       "      <td>1</td>\n",
       "    </tr>\n",
       "    <tr>\n",
       "      <th>3</th>\n",
       "      <td>45</td>\n",
       "      <td>Texas</td>\n",
       "      <td>Novelty Items</td>\n",
       "      <td>2204</td>\n",
       "      <td>1</td>\n",
       "    </tr>\n",
       "    <tr>\n",
       "      <th>4</th>\n",
       "      <td>45</td>\n",
       "      <td>Texas</td>\n",
       "      <td>Novelty Items</td>\n",
       "      <td>2187</td>\n",
       "      <td>1</td>\n",
       "    </tr>\n",
       "  </tbody>\n",
       "</table>\n",
       "</div>"
      ],
      "text/plain": [
       "   StateProvinceID Region          Product_Cat  Demand  HighOLow\n",
       "0               45  Texas        Novelty Items    2440         1\n",
       "1               45  Texas  Computing Novelties    2401         1\n",
       "2               45  Texas        Novelty Items    2209         1\n",
       "3               45  Texas        Novelty Items    2204         1\n",
       "4               45  Texas        Novelty Items    2187         1"
      ]
     },
     "execution_count": 20,
     "metadata": {},
     "output_type": "execute_result"
    }
   ],
   "source": [
    "data.head()"
   ]
  },
  {
   "cell_type": "code",
   "execution_count": 21,
   "id": "f2620027",
   "metadata": {},
   "outputs": [],
   "source": [
    "data_copy=data.copy()"
   ]
  },
  {
   "cell_type": "code",
   "execution_count": 22,
   "id": "3201b7d7",
   "metadata": {},
   "outputs": [],
   "source": [
    "data_copy.drop('StateProvinceID', axis=1, inplace=True)"
   ]
  },
  {
   "cell_type": "code",
   "execution_count": 23,
   "id": "51080006",
   "metadata": {},
   "outputs": [
    {
     "data": {
      "text/html": [
       "<div>\n",
       "<style scoped>\n",
       "    .dataframe tbody tr th:only-of-type {\n",
       "        vertical-align: middle;\n",
       "    }\n",
       "\n",
       "    .dataframe tbody tr th {\n",
       "        vertical-align: top;\n",
       "    }\n",
       "\n",
       "    .dataframe thead th {\n",
       "        text-align: right;\n",
       "    }\n",
       "</style>\n",
       "<table border=\"1\" class=\"dataframe\">\n",
       "  <thead>\n",
       "    <tr style=\"text-align: right;\">\n",
       "      <th></th>\n",
       "      <th>Region</th>\n",
       "      <th>Product_Cat</th>\n",
       "      <th>Demand</th>\n",
       "      <th>HighOLow</th>\n",
       "    </tr>\n",
       "  </thead>\n",
       "  <tbody>\n",
       "    <tr>\n",
       "      <th>0</th>\n",
       "      <td>Texas</td>\n",
       "      <td>Novelty Items</td>\n",
       "      <td>2440</td>\n",
       "      <td>1</td>\n",
       "    </tr>\n",
       "    <tr>\n",
       "      <th>1</th>\n",
       "      <td>Texas</td>\n",
       "      <td>Computing Novelties</td>\n",
       "      <td>2401</td>\n",
       "      <td>1</td>\n",
       "    </tr>\n",
       "    <tr>\n",
       "      <th>2</th>\n",
       "      <td>Texas</td>\n",
       "      <td>Novelty Items</td>\n",
       "      <td>2209</td>\n",
       "      <td>1</td>\n",
       "    </tr>\n",
       "    <tr>\n",
       "      <th>3</th>\n",
       "      <td>Texas</td>\n",
       "      <td>Novelty Items</td>\n",
       "      <td>2204</td>\n",
       "      <td>1</td>\n",
       "    </tr>\n",
       "    <tr>\n",
       "      <th>4</th>\n",
       "      <td>Texas</td>\n",
       "      <td>Novelty Items</td>\n",
       "      <td>2187</td>\n",
       "      <td>1</td>\n",
       "    </tr>\n",
       "  </tbody>\n",
       "</table>\n",
       "</div>"
      ],
      "text/plain": [
       "  Region          Product_Cat  Demand  HighOLow\n",
       "0  Texas        Novelty Items    2440         1\n",
       "1  Texas  Computing Novelties    2401         1\n",
       "2  Texas        Novelty Items    2209         1\n",
       "3  Texas        Novelty Items    2204         1\n",
       "4  Texas        Novelty Items    2187         1"
      ]
     },
     "execution_count": 23,
     "metadata": {},
     "output_type": "execute_result"
    }
   ],
   "source": [
    "data_copy.head()"
   ]
  },
  {
   "cell_type": "code",
   "execution_count": 24,
   "id": "169733cd",
   "metadata": {},
   "outputs": [
    {
     "name": "stderr",
     "output_type": "stream",
     "text": [
      "C:\\Users\\USER\\AppData\\Local\\Temp\\ipykernel_12844\\3025026007.py:3: UserWarning:\n",
      "\n",
      "\n",
      "\n",
      "`distplot` is a deprecated function and will be removed in seaborn v0.14.0.\n",
      "\n",
      "Please adapt your code to use either `displot` (a figure-level function with\n",
      "similar flexibility) or `histplot` (an axes-level function for histograms).\n",
      "\n",
      "For a guide to updating your code to use the new functions, please see\n",
      "https://gist.github.com/mwaskom/de44147ed2974457ad6372750bbe5751\n",
      "\n",
      "\n"
     ]
    },
    {
     "data": {
      "image/png": "[encoded data removed]",
      "text/plain": [
       "<Figure size 640x480 with 1 Axes>"
      ]
     },
     "metadata": {},
     "output_type": "display_data"
    }
   ],
   "source": [
    "x = data_copy['Demand']\n",
    "\n",
    "ax = sns.distplot(x)"
   ]
  },
  {
   "cell_type": "code",
   "execution_count": 25,
   "id": "839613d8",
   "metadata": {},
   "outputs": [],
   "source": [
    "data_copy['Demand']=np.log(data_copy['Demand'])"
   ]
  },
  {
   "cell_type": "code",
   "execution_count": 26,
   "id": "d73d6c07",
   "metadata": {},
   "outputs": [
    {
     "name": "stderr",
     "output_type": "stream",
     "text": [
      "C:\\Users\\USER\\AppData\\Local\\Temp\\ipykernel_12844\\3025026007.py:3: UserWarning:\n",
      "\n",
      "\n",
      "\n",
      "`distplot` is a deprecated function and will be removed in seaborn v0.14.0.\n",
      "\n",
      "Please adapt your code to use either `displot` (a figure-level function with\n",
      "similar flexibility) or `histplot` (an axes-level function for histograms).\n",
      "\n",
      "For a guide to updating your code to use the new functions, please see\n",
      "https://gist.github.com/mwaskom/de44147ed2974457ad6372750bbe5751\n",
      "\n",
      "\n"
     ]
    },
    {
     "data": {
      "image/png": "[encoded data removed]",
      "text/plain": [
       "<Figure size 640x480 with 1 Axes>"
      ]
     },
     "metadata": {},
     "output_type": "display_data"
    }
   ],
   "source": [
    "x = data_copy['Demand']\n",
    "\n",
    "ax = sns.distplot(x)"
   ]
  },
  {
   "cell_type": "code",
   "execution_count": 27,
   "id": "bea21051",
   "metadata": {},
   "outputs": [
    {
     "data": {
      "text/html": [
       "<div>\n",
       "<style scoped>\n",
       "    .dataframe tbody tr th:only-of-type {\n",
       "        vertical-align: middle;\n",
       "    }\n",
       "\n",
       "    .dataframe tbody tr th {\n",
       "        vertical-align: top;\n",
       "    }\n",
       "\n",
       "    .dataframe thead th {\n",
       "        text-align: right;\n",
       "    }\n",
       "</style>\n",
       "<table border=\"1\" class=\"dataframe\">\n",
       "  <thead>\n",
       "    <tr style=\"text-align: right;\">\n",
       "      <th></th>\n",
       "      <th>Region</th>\n",
       "      <th>Product_Cat</th>\n",
       "      <th>Demand</th>\n",
       "      <th>HighOLow</th>\n",
       "    </tr>\n",
       "  </thead>\n",
       "  <tbody>\n",
       "    <tr>\n",
       "      <th>0</th>\n",
       "      <td>Texas</td>\n",
       "      <td>Novelty Items</td>\n",
       "      <td>7.799753</td>\n",
       "      <td>1</td>\n",
       "    </tr>\n",
       "    <tr>\n",
       "      <th>1</th>\n",
       "      <td>Texas</td>\n",
       "      <td>Computing Novelties</td>\n",
       "      <td>7.783641</td>\n",
       "      <td>1</td>\n",
       "    </tr>\n",
       "    <tr>\n",
       "      <th>2</th>\n",
       "      <td>Texas</td>\n",
       "      <td>Novelty Items</td>\n",
       "      <td>7.700295</td>\n",
       "      <td>1</td>\n",
       "    </tr>\n",
       "    <tr>\n",
       "      <th>3</th>\n",
       "      <td>Texas</td>\n",
       "      <td>Novelty Items</td>\n",
       "      <td>7.698029</td>\n",
       "      <td>1</td>\n",
       "    </tr>\n",
       "    <tr>\n",
       "      <th>4</th>\n",
       "      <td>Texas</td>\n",
       "      <td>Novelty Items</td>\n",
       "      <td>7.690286</td>\n",
       "      <td>1</td>\n",
       "    </tr>\n",
       "  </tbody>\n",
       "</table>\n",
       "</div>"
      ],
      "text/plain": [
       "  Region          Product_Cat    Demand  HighOLow\n",
       "0  Texas        Novelty Items  7.799753         1\n",
       "1  Texas  Computing Novelties  7.783641         1\n",
       "2  Texas        Novelty Items  7.700295         1\n",
       "3  Texas        Novelty Items  7.698029         1\n",
       "4  Texas        Novelty Items  7.690286         1"
      ]
     },
     "execution_count": 27,
     "metadata": {},
     "output_type": "execute_result"
    }
   ],
   "source": [
    "data_copy.head()"
   ]
  },
  {
   "cell_type": "code",
   "execution_count": 28,
   "id": "12f71e55",
   "metadata": {},
   "outputs": [],
   "source": [
    "#Data encoding"
   ]
  },
  {
   "cell_type": "code",
   "execution_count": 29,
   "id": "871e7147",
   "metadata": {},
   "outputs": [],
   "source": [
    "cols = ['Region','Product_Cat']\n",
    "data_copy = pd.get_dummies(data=data_copy, columns = cols)"
   ]
  },
  {
   "cell_type": "code",
   "execution_count": 28,
   "id": "9c0b19ef",
   "metadata": {},
   "outputs": [
    {
     "data": {
      "text/html": [
       "<div>\n",
       "<style scoped>\n",
       "    .dataframe tbody tr th:only-of-type {\n",
       "        vertical-align: middle;\n",
       "    }\n",
       "\n",
       "    .dataframe tbody tr th {\n",
       "        vertical-align: top;\n",
       "    }\n",
       "\n",
       "    .dataframe thead th {\n",
       "        text-align: right;\n",
       "    }\n",
       "</style>\n",
       "<table border=\"1\" class=\"dataframe\">\n",
       "  <thead>\n",
       "    <tr style=\"text-align: right;\">\n",
       "      <th></th>\n",
       "      <th>Demand</th>\n",
       "      <th>HighOLow</th>\n",
       "      <th>Region_Alabama</th>\n",
       "      <th>Region_Alaska</th>\n",
       "      <th>Region_Arizona</th>\n",
       "      <th>Region_Arkansas</th>\n",
       "      <th>Region_California</th>\n",
       "      <th>Region_Colorado</th>\n",
       "      <th>Region_Connecticut</th>\n",
       "      <th>Region_Florida</th>\n",
       "      <th>...</th>\n",
       "      <th>Region_Wyoming</th>\n",
       "      <th>Product_Cat_Clothing</th>\n",
       "      <th>Product_Cat_Computing Novelties</th>\n",
       "      <th>Product_Cat_Furry Footwear</th>\n",
       "      <th>Product_Cat_Mugs</th>\n",
       "      <th>Product_Cat_Novelty Items</th>\n",
       "      <th>Product_Cat_Packaging Materials</th>\n",
       "      <th>Product_Cat_T-Shirts</th>\n",
       "      <th>Product_Cat_Toys</th>\n",
       "      <th>Product_Cat_USB Novelties</th>\n",
       "    </tr>\n",
       "  </thead>\n",
       "  <tbody>\n",
       "    <tr>\n",
       "      <th>0</th>\n",
       "      <td>7.799753</td>\n",
       "      <td>1</td>\n",
       "      <td>0</td>\n",
       "      <td>0</td>\n",
       "      <td>0</td>\n",
       "      <td>0</td>\n",
       "      <td>0</td>\n",
       "      <td>0</td>\n",
       "      <td>0</td>\n",
       "      <td>0</td>\n",
       "      <td>...</td>\n",
       "      <td>0</td>\n",
       "      <td>0</td>\n",
       "      <td>0</td>\n",
       "      <td>0</td>\n",
       "      <td>0</td>\n",
       "      <td>1</td>\n",
       "      <td>0</td>\n",
       "      <td>0</td>\n",
       "      <td>0</td>\n",
       "      <td>0</td>\n",
       "    </tr>\n",
       "    <tr>\n",
       "      <th>1</th>\n",
       "      <td>7.783641</td>\n",
       "      <td>1</td>\n",
       "      <td>0</td>\n",
       "      <td>0</td>\n",
       "      <td>0</td>\n",
       "      <td>0</td>\n",
       "      <td>0</td>\n",
       "      <td>0</td>\n",
       "      <td>0</td>\n",
       "      <td>0</td>\n",
       "      <td>...</td>\n",
       "      <td>0</td>\n",
       "      <td>0</td>\n",
       "      <td>1</td>\n",
       "      <td>0</td>\n",
       "      <td>0</td>\n",
       "      <td>0</td>\n",
       "      <td>0</td>\n",
       "      <td>0</td>\n",
       "      <td>0</td>\n",
       "      <td>0</td>\n",
       "    </tr>\n",
       "    <tr>\n",
       "      <th>2</th>\n",
       "      <td>7.700295</td>\n",
       "      <td>1</td>\n",
       "      <td>0</td>\n",
       "      <td>0</td>\n",
       "      <td>0</td>\n",
       "      <td>0</td>\n",
       "      <td>0</td>\n",
       "      <td>0</td>\n",
       "      <td>0</td>\n",
       "      <td>0</td>\n",
       "      <td>...</td>\n",
       "      <td>0</td>\n",
       "      <td>0</td>\n",
       "      <td>0</td>\n",
       "      <td>0</td>\n",
       "      <td>0</td>\n",
       "      <td>1</td>\n",
       "      <td>0</td>\n",
       "      <td>0</td>\n",
       "      <td>0</td>\n",
       "      <td>0</td>\n",
       "    </tr>\n",
       "    <tr>\n",
       "      <th>3</th>\n",
       "      <td>7.698029</td>\n",
       "      <td>1</td>\n",
       "      <td>0</td>\n",
       "      <td>0</td>\n",
       "      <td>0</td>\n",
       "      <td>0</td>\n",
       "      <td>0</td>\n",
       "      <td>0</td>\n",
       "      <td>0</td>\n",
       "      <td>0</td>\n",
       "      <td>...</td>\n",
       "      <td>0</td>\n",
       "      <td>0</td>\n",
       "      <td>0</td>\n",
       "      <td>0</td>\n",
       "      <td>0</td>\n",
       "      <td>1</td>\n",
       "      <td>0</td>\n",
       "      <td>0</td>\n",
       "      <td>0</td>\n",
       "      <td>0</td>\n",
       "    </tr>\n",
       "    <tr>\n",
       "      <th>4</th>\n",
       "      <td>7.690286</td>\n",
       "      <td>1</td>\n",
       "      <td>0</td>\n",
       "      <td>0</td>\n",
       "      <td>0</td>\n",
       "      <td>0</td>\n",
       "      <td>0</td>\n",
       "      <td>0</td>\n",
       "      <td>0</td>\n",
       "      <td>0</td>\n",
       "      <td>...</td>\n",
       "      <td>0</td>\n",
       "      <td>0</td>\n",
       "      <td>0</td>\n",
       "      <td>0</td>\n",
       "      <td>0</td>\n",
       "      <td>1</td>\n",
       "      <td>0</td>\n",
       "      <td>0</td>\n",
       "      <td>0</td>\n",
       "      <td>0</td>\n",
       "    </tr>\n",
       "  </tbody>\n",
       "</table>\n",
       "<p>5 rows × 60 columns</p>\n",
       "</div>"
      ],
      "text/plain": [
       "     Demand  HighOLow  Region_Alabama  Region_Alaska  Region_Arizona  \\\n",
       "0  7.799753         1               0              0               0   \n",
       "1  7.783641         1               0              0               0   \n",
       "2  7.700295         1               0              0               0   \n",
       "3  7.698029         1               0              0               0   \n",
       "4  7.690286         1               0              0               0   \n",
       "\n",
       "   Region_Arkansas  Region_California  Region_Colorado  Region_Connecticut  \\\n",
       "0                0                  0                0                   0   \n",
       "1                0                  0                0                   0   \n",
       "2                0                  0                0                   0   \n",
       "3                0                  0                0                   0   \n",
       "4                0                  0                0                   0   \n",
       "\n",
       "   Region_Florida  ...  Region_Wyoming  Product_Cat_Clothing  \\\n",
       "0               0  ...               0                     0   \n",
       "1               0  ...               0                     0   \n",
       "2               0  ...               0                     0   \n",
       "3               0  ...               0                     0   \n",
       "4               0  ...               0                     0   \n",
       "\n",
       "   Product_Cat_Computing Novelties  Product_Cat_Furry Footwear  \\\n",
       "0                                0                           0   \n",
       "1                                1                           0   \n",
       "2                                0                           0   \n",
       "3                                0                           0   \n",
       "4                                0                           0   \n",
       "\n",
       "   Product_Cat_Mugs  Product_Cat_Novelty Items  \\\n",
       "0                 0                          1   \n",
       "1                 0                          0   \n",
       "2                 0                          1   \n",
       "3                 0                          1   \n",
       "4                 0                          1   \n",
       "\n",
       "   Product_Cat_Packaging Materials  Product_Cat_T-Shirts  Product_Cat_Toys  \\\n",
       "0                                0                     0                 0   \n",
       "1                                0                     0                 0   \n",
       "2                                0                     0                 0   \n",
       "3                                0                     0                 0   \n",
       "4                                0                     0                 0   \n",
       "\n",
       "   Product_Cat_USB Novelties  \n",
       "0                          0  \n",
       "1                          0  \n",
       "2                          0  \n",
       "3                          0  \n",
       "4                          0  \n",
       "\n",
       "[5 rows x 60 columns]"
      ]
     },
     "execution_count": 28,
     "metadata": {},
     "output_type": "execute_result"
    }
   ],
   "source": [
    "data_copy.head()"
   ]
  },
  {
   "cell_type": "code",
   "execution_count": 29,
   "id": "7da50bd1",
   "metadata": {},
   "outputs": [],
   "source": [
    "HighDemand=data_copy[data_copy['HighOLow']==1]"
   ]
  },
  {
   "cell_type": "code",
   "execution_count": 30,
   "id": "b840be94",
   "metadata": {},
   "outputs": [
    {
     "data": {
      "text/plain": [
       "1    144904\n",
       "Name: HighOLow, dtype: int64"
      ]
     },
     "execution_count": 30,
     "metadata": {},
     "output_type": "execute_result"
    }
   ],
   "source": [
    "HighDemand.HighOLow.value_counts()"
   ]
  },
  {
   "cell_type": "code",
   "execution_count": 31,
   "id": "4f24a7a4",
   "metadata": {},
   "outputs": [],
   "source": [
    "LowDemand = data_copy[data_copy['HighOLow']==0]"
   ]
  },
  {
   "cell_type": "code",
   "execution_count": 32,
   "id": "f7efdb6f",
   "metadata": {},
   "outputs": [
    {
     "data": {
      "text/plain": [
       "0    147477\n",
       "Name: HighOLow, dtype: int64"
      ]
     },
     "execution_count": 32,
     "metadata": {},
     "output_type": "execute_result"
    }
   ],
   "source": [
    "LowDemand.HighOLow.value_counts()"
   ]
  },
  {
   "cell_type": "markdown",
   "id": "005abfc9",
   "metadata": {},
   "source": [
    "###  Model Development\n"
   ]
  },
  {
   "cell_type": "markdown",
   "id": "2dc2829b",
   "metadata": {},
   "source": [
    "### Traning/test split/harness"
   ]
  },
  {
   "cell_type": "code",
   "execution_count": 33,
   "id": "f715e62c",
   "metadata": {},
   "outputs": [],
   "source": [
    "X = data_copy.loc[:, data_copy.columns != \"HighOLow\"]"
   ]
  },
  {
   "cell_type": "code",
   "execution_count": 34,
   "id": "f949d6e7",
   "metadata": {},
   "outputs": [
    {
     "data": {
      "text/html": [
       "<div>\n",
       "<style scoped>\n",
       "    .dataframe tbody tr th:only-of-type {\n",
       "        vertical-align: middle;\n",
       "    }\n",
       "\n",
       "    .dataframe tbody tr th {\n",
       "        vertical-align: top;\n",
       "    }\n",
       "\n",
       "    .dataframe thead th {\n",
       "        text-align: right;\n",
       "    }\n",
       "</style>\n",
       "<table border=\"1\" class=\"dataframe\">\n",
       "  <thead>\n",
       "    <tr style=\"text-align: right;\">\n",
       "      <th></th>\n",
       "      <th>Demand</th>\n",
       "      <th>HighOLow</th>\n",
       "      <th>Region_Alabama</th>\n",
       "      <th>Region_Alaska</th>\n",
       "      <th>Region_Arizona</th>\n",
       "      <th>Region_Arkansas</th>\n",
       "      <th>Region_California</th>\n",
       "      <th>Region_Colorado</th>\n",
       "      <th>Region_Connecticut</th>\n",
       "      <th>Region_Florida</th>\n",
       "      <th>...</th>\n",
       "      <th>Region_Wyoming</th>\n",
       "      <th>Product_Cat_Clothing</th>\n",
       "      <th>Product_Cat_Computing Novelties</th>\n",
       "      <th>Product_Cat_Furry Footwear</th>\n",
       "      <th>Product_Cat_Mugs</th>\n",
       "      <th>Product_Cat_Novelty Items</th>\n",
       "      <th>Product_Cat_Packaging Materials</th>\n",
       "      <th>Product_Cat_T-Shirts</th>\n",
       "      <th>Product_Cat_Toys</th>\n",
       "      <th>Product_Cat_USB Novelties</th>\n",
       "    </tr>\n",
       "  </thead>\n",
       "  <tbody>\n",
       "    <tr>\n",
       "      <th>0</th>\n",
       "      <td>7.799753</td>\n",
       "      <td>1</td>\n",
       "      <td>0</td>\n",
       "      <td>0</td>\n",
       "      <td>0</td>\n",
       "      <td>0</td>\n",
       "      <td>0</td>\n",
       "      <td>0</td>\n",
       "      <td>0</td>\n",
       "      <td>0</td>\n",
       "      <td>...</td>\n",
       "      <td>0</td>\n",
       "      <td>0</td>\n",
       "      <td>0</td>\n",
       "      <td>0</td>\n",
       "      <td>0</td>\n",
       "      <td>1</td>\n",
       "      <td>0</td>\n",
       "      <td>0</td>\n",
       "      <td>0</td>\n",
       "      <td>0</td>\n",
       "    </tr>\n",
       "    <tr>\n",
       "      <th>1</th>\n",
       "      <td>7.783641</td>\n",
       "      <td>1</td>\n",
       "      <td>0</td>\n",
       "      <td>0</td>\n",
       "      <td>0</td>\n",
       "      <td>0</td>\n",
       "      <td>0</td>\n",
       "      <td>0</td>\n",
       "      <td>0</td>\n",
       "      <td>0</td>\n",
       "      <td>...</td>\n",
       "      <td>0</td>\n",
       "      <td>0</td>\n",
       "      <td>1</td>\n",
       "      <td>0</td>\n",
       "      <td>0</td>\n",
       "      <td>0</td>\n",
       "      <td>0</td>\n",
       "      <td>0</td>\n",
       "      <td>0</td>\n",
       "      <td>0</td>\n",
       "    </tr>\n",
       "    <tr>\n",
       "      <th>2</th>\n",
       "      <td>7.700295</td>\n",
       "      <td>1</td>\n",
       "      <td>0</td>\n",
       "      <td>0</td>\n",
       "      <td>0</td>\n",
       "      <td>0</td>\n",
       "      <td>0</td>\n",
       "      <td>0</td>\n",
       "      <td>0</td>\n",
       "      <td>0</td>\n",
       "      <td>...</td>\n",
       "      <td>0</td>\n",
       "      <td>0</td>\n",
       "      <td>0</td>\n",
       "      <td>0</td>\n",
       "      <td>0</td>\n",
       "      <td>1</td>\n",
       "      <td>0</td>\n",
       "      <td>0</td>\n",
       "      <td>0</td>\n",
       "      <td>0</td>\n",
       "    </tr>\n",
       "    <tr>\n",
       "      <th>3</th>\n",
       "      <td>7.698029</td>\n",
       "      <td>1</td>\n",
       "      <td>0</td>\n",
       "      <td>0</td>\n",
       "      <td>0</td>\n",
       "      <td>0</td>\n",
       "      <td>0</td>\n",
       "      <td>0</td>\n",
       "      <td>0</td>\n",
       "      <td>0</td>\n",
       "      <td>...</td>\n",
       "      <td>0</td>\n",
       "      <td>0</td>\n",
       "      <td>0</td>\n",
       "      <td>0</td>\n",
       "      <td>0</td>\n",
       "      <td>1</td>\n",
       "      <td>0</td>\n",
       "      <td>0</td>\n",
       "      <td>0</td>\n",
       "      <td>0</td>\n",
       "    </tr>\n",
       "    <tr>\n",
       "      <th>4</th>\n",
       "      <td>7.690286</td>\n",
       "      <td>1</td>\n",
       "      <td>0</td>\n",
       "      <td>0</td>\n",
       "      <td>0</td>\n",
       "      <td>0</td>\n",
       "      <td>0</td>\n",
       "      <td>0</td>\n",
       "      <td>0</td>\n",
       "      <td>0</td>\n",
       "      <td>...</td>\n",
       "      <td>0</td>\n",
       "      <td>0</td>\n",
       "      <td>0</td>\n",
       "      <td>0</td>\n",
       "      <td>0</td>\n",
       "      <td>1</td>\n",
       "      <td>0</td>\n",
       "      <td>0</td>\n",
       "      <td>0</td>\n",
       "      <td>0</td>\n",
       "    </tr>\n",
       "    <tr>\n",
       "      <th>...</th>\n",
       "      <td>...</td>\n",
       "      <td>...</td>\n",
       "      <td>...</td>\n",
       "      <td>...</td>\n",
       "      <td>...</td>\n",
       "      <td>...</td>\n",
       "      <td>...</td>\n",
       "      <td>...</td>\n",
       "      <td>...</td>\n",
       "      <td>...</td>\n",
       "      <td>...</td>\n",
       "      <td>...</td>\n",
       "      <td>...</td>\n",
       "      <td>...</td>\n",
       "      <td>...</td>\n",
       "      <td>...</td>\n",
       "      <td>...</td>\n",
       "      <td>...</td>\n",
       "      <td>...</td>\n",
       "      <td>...</td>\n",
       "      <td>...</td>\n",
       "    </tr>\n",
       "    <tr>\n",
       "      <th>292376</th>\n",
       "      <td>0.693147</td>\n",
       "      <td>0</td>\n",
       "      <td>0</td>\n",
       "      <td>0</td>\n",
       "      <td>0</td>\n",
       "      <td>0</td>\n",
       "      <td>0</td>\n",
       "      <td>0</td>\n",
       "      <td>0</td>\n",
       "      <td>0</td>\n",
       "      <td>...</td>\n",
       "      <td>0</td>\n",
       "      <td>0</td>\n",
       "      <td>0</td>\n",
       "      <td>0</td>\n",
       "      <td>0</td>\n",
       "      <td>0</td>\n",
       "      <td>0</td>\n",
       "      <td>0</td>\n",
       "      <td>0</td>\n",
       "      <td>1</td>\n",
       "    </tr>\n",
       "    <tr>\n",
       "      <th>292377</th>\n",
       "      <td>0.693147</td>\n",
       "      <td>0</td>\n",
       "      <td>0</td>\n",
       "      <td>0</td>\n",
       "      <td>0</td>\n",
       "      <td>0</td>\n",
       "      <td>0</td>\n",
       "      <td>0</td>\n",
       "      <td>0</td>\n",
       "      <td>0</td>\n",
       "      <td>...</td>\n",
       "      <td>0</td>\n",
       "      <td>0</td>\n",
       "      <td>0</td>\n",
       "      <td>0</td>\n",
       "      <td>1</td>\n",
       "      <td>0</td>\n",
       "      <td>0</td>\n",
       "      <td>0</td>\n",
       "      <td>0</td>\n",
       "      <td>0</td>\n",
       "    </tr>\n",
       "    <tr>\n",
       "      <th>292378</th>\n",
       "      <td>0.693147</td>\n",
       "      <td>0</td>\n",
       "      <td>0</td>\n",
       "      <td>0</td>\n",
       "      <td>0</td>\n",
       "      <td>0</td>\n",
       "      <td>0</td>\n",
       "      <td>0</td>\n",
       "      <td>0</td>\n",
       "      <td>0</td>\n",
       "      <td>...</td>\n",
       "      <td>0</td>\n",
       "      <td>0</td>\n",
       "      <td>0</td>\n",
       "      <td>1</td>\n",
       "      <td>0</td>\n",
       "      <td>0</td>\n",
       "      <td>0</td>\n",
       "      <td>0</td>\n",
       "      <td>0</td>\n",
       "      <td>0</td>\n",
       "    </tr>\n",
       "    <tr>\n",
       "      <th>292379</th>\n",
       "      <td>0.000000</td>\n",
       "      <td>0</td>\n",
       "      <td>0</td>\n",
       "      <td>0</td>\n",
       "      <td>0</td>\n",
       "      <td>0</td>\n",
       "      <td>0</td>\n",
       "      <td>0</td>\n",
       "      <td>0</td>\n",
       "      <td>0</td>\n",
       "      <td>...</td>\n",
       "      <td>0</td>\n",
       "      <td>0</td>\n",
       "      <td>0</td>\n",
       "      <td>0</td>\n",
       "      <td>0</td>\n",
       "      <td>0</td>\n",
       "      <td>0</td>\n",
       "      <td>0</td>\n",
       "      <td>1</td>\n",
       "      <td>0</td>\n",
       "    </tr>\n",
       "    <tr>\n",
       "      <th>292380</th>\n",
       "      <td>0.000000</td>\n",
       "      <td>0</td>\n",
       "      <td>0</td>\n",
       "      <td>0</td>\n",
       "      <td>0</td>\n",
       "      <td>0</td>\n",
       "      <td>0</td>\n",
       "      <td>0</td>\n",
       "      <td>0</td>\n",
       "      <td>0</td>\n",
       "      <td>...</td>\n",
       "      <td>0</td>\n",
       "      <td>0</td>\n",
       "      <td>0</td>\n",
       "      <td>1</td>\n",
       "      <td>0</td>\n",
       "      <td>0</td>\n",
       "      <td>0</td>\n",
       "      <td>0</td>\n",
       "      <td>0</td>\n",
       "      <td>0</td>\n",
       "    </tr>\n",
       "  </tbody>\n",
       "</table>\n",
       "<p>292381 rows × 60 columns</p>\n",
       "</div>"
      ],
      "text/plain": [
       "          Demand  HighOLow  Region_Alabama  Region_Alaska  Region_Arizona  \\\n",
       "0       7.799753         1               0              0               0   \n",
       "1       7.783641         1               0              0               0   \n",
       "2       7.700295         1               0              0               0   \n",
       "3       7.698029         1               0              0               0   \n",
       "4       7.690286         1               0              0               0   \n",
       "...          ...       ...             ...            ...             ...   \n",
       "292376  0.693147         0               0              0               0   \n",
       "292377  0.693147         0               0              0               0   \n",
       "292378  0.693147         0               0              0               0   \n",
       "292379  0.000000         0               0              0               0   \n",
       "292380  0.000000         0               0              0               0   \n",
       "\n",
       "        Region_Arkansas  Region_California  Region_Colorado  \\\n",
       "0                     0                  0                0   \n",
       "1                     0                  0                0   \n",
       "2                     0                  0                0   \n",
       "3                     0                  0                0   \n",
       "4                     0                  0                0   \n",
       "...                 ...                ...              ...   \n",
       "292376                0                  0                0   \n",
       "292377                0                  0                0   \n",
       "292378                0                  0                0   \n",
       "292379                0                  0                0   \n",
       "292380                0                  0                0   \n",
       "\n",
       "        Region_Connecticut  Region_Florida  ...  Region_Wyoming  \\\n",
       "0                        0               0  ...               0   \n",
       "1                        0               0  ...               0   \n",
       "2                        0               0  ...               0   \n",
       "3                        0               0  ...               0   \n",
       "4                        0               0  ...               0   \n",
       "...                    ...             ...  ...             ...   \n",
       "292376                   0               0  ...               0   \n",
       "292377                   0               0  ...               0   \n",
       "292378                   0               0  ...               0   \n",
       "292379                   0               0  ...               0   \n",
       "292380                   0               0  ...               0   \n",
       "\n",
       "        Product_Cat_Clothing  Product_Cat_Computing Novelties  \\\n",
       "0                          0                                0   \n",
       "1                          0                                1   \n",
       "2                          0                                0   \n",
       "3                          0                                0   \n",
       "4                          0                                0   \n",
       "...                      ...                              ...   \n",
       "292376                     0                                0   \n",
       "292377                     0                                0   \n",
       "292378                     0                                0   \n",
       "292379                     0                                0   \n",
       "292380                     0                                0   \n",
       "\n",
       "        Product_Cat_Furry Footwear  Product_Cat_Mugs  \\\n",
       "0                                0                 0   \n",
       "1                                0                 0   \n",
       "2                                0                 0   \n",
       "3                                0                 0   \n",
       "4                                0                 0   \n",
       "...                            ...               ...   \n",
       "292376                           0                 0   \n",
       "292377                           0                 1   \n",
       "292378                           1                 0   \n",
       "292379                           0                 0   \n",
       "292380                           1                 0   \n",
       "\n",
       "        Product_Cat_Novelty Items  Product_Cat_Packaging Materials  \\\n",
       "0                               1                                0   \n",
       "1                               0                                0   \n",
       "2                               1                                0   \n",
       "3                               1                                0   \n",
       "4                               1                                0   \n",
       "...                           ...                              ...   \n",
       "292376                          0                                0   \n",
       "292377                          0                                0   \n",
       "292378                          0                                0   \n",
       "292379                          0                                0   \n",
       "292380                          0                                0   \n",
       "\n",
       "        Product_Cat_T-Shirts  Product_Cat_Toys  Product_Cat_USB Novelties  \n",
       "0                          0                 0                          0  \n",
       "1                          0                 0                          0  \n",
       "2                          0                 0                          0  \n",
       "3                          0                 0                          0  \n",
       "4                          0                 0                          0  \n",
       "...                      ...               ...                        ...  \n",
       "292376                     0                 0                          1  \n",
       "292377                     0                 0                          0  \n",
       "292378                     0                 0                          0  \n",
       "292379                     0                 1                          0  \n",
       "292380                     0                 0                          0  \n",
       "\n",
       "[292381 rows x 60 columns]"
      ]
     },
     "execution_count": 34,
     "metadata": {},
     "output_type": "execute_result"
    }
   ],
   "source": [
    "data_copy"
   ]
  },
  {
   "cell_type": "code",
   "execution_count": 35,
   "id": "4af07838",
   "metadata": {},
   "outputs": [],
   "source": [
    "y = data_copy['HighOLow']"
   ]
  },
  {
   "cell_type": "code",
   "execution_count": 36,
   "id": "61919414",
   "metadata": {},
   "outputs": [],
   "source": [
    "RANDOM_STATE=100"
   ]
  },
  {
   "cell_type": "code",
   "execution_count": 37,
   "id": "9a429329",
   "metadata": {},
   "outputs": [],
   "source": [
    "# b) apply a 50/50 split into training and test sets(using train_test_split)\n",
    "#using train_test_split()\n",
    "X_train, X_test, y_train, y_test = train_test_split(X, \n",
    "                                                    y, \n",
    "                                                    test_size=0.5,\n",
    "                                                    random_state=RANDOM_STATE)"
   ]
  },
  {
   "cell_type": "markdown",
   "id": "3a0f65f9",
   "metadata": {},
   "source": [
    "Fit model - (Logistic Regression)"
   ]
  },
  {
   "cell_type": "markdown",
   "id": "9ac93a84",
   "metadata": {},
   "source": [
    "we use the Logistic Regression algorithm first to fit to our TRAINING data.\n",
    "\n",
    "We train the model on ALL the features"
   ]
  },
  {
   "cell_type": "code",
   "execution_count": 38,
   "id": "c3ec0e76",
   "metadata": {},
   "outputs": [
    {
     "name": "stderr",
     "output_type": "stream",
     "text": [
      "C:\\Users\\ISAAC\\anaconda3\\lib\\site-packages\\sklearn\\linear_model\\_logistic.py:814: ConvergenceWarning:\n",
      "\n",
      "lbfgs failed to converge (status=1):\n",
      "STOP: TOTAL NO. of ITERATIONS REACHED LIMIT.\n",
      "\n",
      "Increase the number of iterations (max_iter) or scale the data as shown in:\n",
      "    https://scikit-learn.org/stable/modules/preprocessing.html\n",
      "Please also refer to the documentation for alternative solver options:\n",
      "    https://scikit-learn.org/stable/modules/linear_model.html#logistic-regression\n",
      "\n"
     ]
    }
   ],
   "source": [
    "# STEP 1: set up a machine learning algorithm\n",
    "estimator = LogisticRegression(random_state = RANDOM_STATE)\n",
    "\n",
    "#STEP 2: fit the model to the TRAINING set\n",
    "estimator.fit(X_train, y_train)\n",
    "\n",
    "#STEP 3: predict using the TEST set FEATURES\n",
    "y_pred = estimator.predict(X_test)\n",
    "\n",
    "#optional: extract classification probabilities for later performance metrics\n",
    "#y_score = estimator.predict_proba(X_test)[:0]"
   ]
  },
  {
   "cell_type": "code",
   "execution_count": 39,
   "id": "2648ba04",
   "metadata": {},
   "outputs": [],
   "source": [
    "y_true = y_test # variable name change(convention) \n",
    "#for reporting metrics below"
   ]
  },
  {
   "cell_type": "code",
   "execution_count": 40,
   "id": "29a755ed",
   "metadata": {
    "scrolled": true
   },
   "outputs": [
    {
     "data": {
      "text/plain": [
       "0.9974211818785014"
      ]
     },
     "execution_count": 40,
     "metadata": {},
     "output_type": "execute_result"
    }
   ],
   "source": [
    "accuracy_score(y_true, y_pred)"
   ]
  },
  {
   "cell_type": "code",
   "execution_count": 41,
   "id": "e2fedb14",
   "metadata": {
    "scrolled": true
   },
   "outputs": [
    {
     "data": {
      "text/plain": [
       "0.9979274897756162"
      ]
     },
     "execution_count": 41,
     "metadata": {},
     "output_type": "execute_result"
    }
   ],
   "source": [
    "precision_score(y_true, y_pred)"
   ]
  },
  {
   "cell_type": "code",
   "execution_count": 42,
   "id": "0138ed4e",
   "metadata": {},
   "outputs": [
    {
     "data": {
      "text/plain": [
       "0.9968669344264558"
      ]
     },
     "execution_count": 42,
     "metadata": {},
     "output_type": "execute_result"
    }
   ],
   "source": [
    "# d) display recall and precision\n",
    "recall_score(y_true, y_pred)"
   ]
  },
  {
   "cell_type": "code",
   "execution_count": 43,
   "id": "8264c9a1",
   "metadata": {
    "scrolled": true
   },
   "outputs": [
    {
     "data": {
      "text/plain": [
       "array([[73588,   150],\n",
       "       [  227, 72226]], dtype=int64)"
      ]
     },
     "execution_count": 43,
     "metadata": {},
     "output_type": "execute_result"
    }
   ],
   "source": [
    "# b) display confusion matrix results\n",
    "confusion_matrix(y_true, y_pred)"
   ]
  },
  {
   "cell_type": "code",
   "execution_count": 44,
   "id": "fb78f9de",
   "metadata": {},
   "outputs": [
    {
     "name": "stderr",
     "output_type": "stream",
     "text": [
      "C:\\Users\\ISAAC\\anaconda3\\lib\\site-packages\\sklearn\\linear_model\\_logistic.py:814: ConvergenceWarning:\n",
      "\n",
      "lbfgs failed to converge (status=1):\n",
      "STOP: TOTAL NO. of ITERATIONS REACHED LIMIT.\n",
      "\n",
      "Increase the number of iterations (max_iter) or scale the data as shown in:\n",
      "    https://scikit-learn.org/stable/modules/preprocessing.html\n",
      "Please also refer to the documentation for alternative solver options:\n",
      "    https://scikit-learn.org/stable/modules/linear_model.html#logistic-regression\n",
      "\n"
     ]
    },
    {
     "data": {
      "image/png": "[encoded data removed]",
      "text/plain": [
       "<Figure size 1400x600 with 1 Axes>"
      ]
     },
     "metadata": {},
     "output_type": "display_data"
    }
   ],
   "source": [
    "estimator.fit(X_train, y_train) \n",
    "probs = estimator.predict_proba(X_test) \n",
    "probs = probs[:, 1] \n",
    "estimator_roc_auc = accuracy_score(y_test, y_pred )\n",
    "rf_fpr, rf_tpr, rf_thresholds = roc_curve(y_test, estimator.predict_proba(X_test)[:,1])\n",
    "plt.figure(figsize=(14, 6))\n",
    "# Plot Logistic Regression ROC\n",
    "plt.plot(rf_fpr, rf_tpr, \n",
    "label='Logistic Regression (area = %0.2f)' % estimator_roc_auc)\n",
    "# Plot Base Rate ROC\n",
    "plt.plot([0,1], [0,1],label='Base Rate' 'k--')\n",
    "plt.xlim([0.0, 1.0])\n",
    "plt.ylim([0.0, 1.05])\n",
    "plt.ylabel('True Positive Rate \\n',horizontalalignment=\"center\",\n",
    "fontstyle = \"normal\", fontsize = \"16\", \n",
    "fontfamily = \"sans-serif\")\n",
    "plt.xlabel('\\nFalse Positive Rate \\n',horizontalalignment=\"center\",\n",
    "fontstyle = \"normal\", fontsize = \"16\", \n",
    "fontfamily = \"sans-serif\")\n",
    "plt.title('ROC Graph \\n',horizontalalignment=\"center\", \n",
    "fontstyle = \"normal\", fontsize = \"22\", \n",
    "fontfamily = \"sans-serif\")\n",
    "plt.legend(loc=\"lower right\", fontsize = \"14\")\n",
    "plt.xticks(rotation=0, horizontalalignment=\"center\")\n",
    "plt.yticks(rotation=0, horizontalalignment=\"right\")\n",
    "plt.show()"
   ]
  },
  {
   "cell_type": "markdown",
   "id": "32d0d732",
   "metadata": {},
   "source": [
    "### Determining the Region Demand propensity"
   ]
  },
  {
   "cell_type": "code",
   "execution_count": 47,
   "id": "e25171c2",
   "metadata": {},
   "outputs": [
    {
     "name": "stderr",
     "output_type": "stream",
     "text": [
      "C:\\Users\\ISAAC\\anaconda3\\lib\\site-packages\\sklearn\\linear_model\\_logistic.py:814: ConvergenceWarning:\n",
      "\n",
      "lbfgs failed to converge (status=1):\n",
      "STOP: TOTAL NO. of ITERATIONS REACHED LIMIT.\n",
      "\n",
      "Increase the number of iterations (max_iter) or scale the data as shown in:\n",
      "    https://scikit-learn.org/stable/modules/preprocessing.html\n",
      "Please also refer to the documentation for alternative solver options:\n",
      "    https://scikit-learn.org/stable/modules/linear_model.html#logistic-regression\n",
      "\n"
     ]
    }
   ],
   "source": [
    "lr_classifier = LogisticRegression(random_state =100)\n",
    "lr_classifier.fit(X_train, y_train)\n",
    "# Predict the Test set results\n",
    "yt_pred = lr_classifier.predict(X_test)\n",
    "#probability score\n",
    "y_pred_probs = lr_classifier.predict_proba(X_test)\n",
    "y_pred_probs  = y_pred_probs [:, 1]"
   ]
  },
  {
   "cell_type": "code",
   "execution_count": 48,
   "id": "0da81ce9",
   "metadata": {},
   "outputs": [
    {
     "data": {
      "text/plain": [
       "array([2.29743317e-44, 9.99692126e-01, 1.00000000e+00, ...,\n",
       "       7.43077375e-29, 1.04153681e-04, 2.00550338e-27])"
      ]
     },
     "execution_count": 48,
     "metadata": {},
     "output_type": "execute_result"
    }
   ],
   "source": [
    "y_pred_probs"
   ]
  },
  {
   "cell_type": "code",
   "execution_count": 49,
   "id": "d257de6e",
   "metadata": {},
   "outputs": [],
   "source": [
    "X_test['StateProvinceID']=data['StateProvinceID']\n",
    "y_test['StateProvinceID']=data['StateProvinceID']"
   ]
  },
  {
   "cell_type": "code",
   "execution_count": 51,
   "id": "9559da60",
   "metadata": {},
   "outputs": [],
   "source": [
    "test_identity = X_test['StateProvinceID']"
   ]
  },
  {
   "cell_type": "code",
   "execution_count": 68,
   "id": "3ec241cb",
   "metadata": {},
   "outputs": [
    {
     "data": {
      "text/html": [
       "<div>\n",
       "<style scoped>\n",
       "    .dataframe tbody tr th:only-of-type {\n",
       "        vertical-align: middle;\n",
       "    }\n",
       "\n",
       "    .dataframe tbody tr th {\n",
       "        vertical-align: top;\n",
       "    }\n",
       "\n",
       "    .dataframe thead th {\n",
       "        text-align: right;\n",
       "    }\n",
       "</style>\n",
       "<table border=\"1\" class=\"dataframe\">\n",
       "  <thead>\n",
       "    <tr style=\"text-align: right;\">\n",
       "      <th></th>\n",
       "      <th>StateProvinceID</th>\n",
       "      <th>HighOLow</th>\n",
       "      <th>predictions</th>\n",
       "      <th>propensity_High_Demand(%)</th>\n",
       "    </tr>\n",
       "  </thead>\n",
       "  <tbody>\n",
       "    <tr>\n",
       "      <th>287059</th>\n",
       "      <td>3.0</td>\n",
       "      <td>0</td>\n",
       "      <td>0</td>\n",
       "      <td>0.00</td>\n",
       "    </tr>\n",
       "    <tr>\n",
       "      <th>116915</th>\n",
       "      <td>32.0</td>\n",
       "      <td>1</td>\n",
       "      <td>1</td>\n",
       "      <td>99.97</td>\n",
       "    </tr>\n",
       "    <tr>\n",
       "      <th>19151</th>\n",
       "      <td>21.0</td>\n",
       "      <td>1</td>\n",
       "      <td>1</td>\n",
       "      <td>100.00</td>\n",
       "    </tr>\n",
       "    <tr>\n",
       "      <th>5057</th>\n",
       "      <td>39.0</td>\n",
       "      <td>1</td>\n",
       "      <td>1</td>\n",
       "      <td>100.00</td>\n",
       "    </tr>\n",
       "    <tr>\n",
       "      <th>10058</th>\n",
       "      <td>14.0</td>\n",
       "      <td>1</td>\n",
       "      <td>1</td>\n",
       "      <td>100.00</td>\n",
       "    </tr>\n",
       "    <tr>\n",
       "      <th>158188</th>\n",
       "      <td>34.0</td>\n",
       "      <td>0</td>\n",
       "      <td>0</td>\n",
       "      <td>1.51</td>\n",
       "    </tr>\n",
       "    <tr>\n",
       "      <th>98875</th>\n",
       "      <td>3.0</td>\n",
       "      <td>1</td>\n",
       "      <td>1</td>\n",
       "      <td>100.00</td>\n",
       "    </tr>\n",
       "    <tr>\n",
       "      <th>61879</th>\n",
       "      <td>46.0</td>\n",
       "      <td>1</td>\n",
       "      <td>1</td>\n",
       "      <td>100.00</td>\n",
       "    </tr>\n",
       "    <tr>\n",
       "      <th>235298</th>\n",
       "      <td>17.0</td>\n",
       "      <td>0</td>\n",
       "      <td>0</td>\n",
       "      <td>0.00</td>\n",
       "    </tr>\n",
       "    <tr>\n",
       "      <th>18928</th>\n",
       "      <td>15.0</td>\n",
       "      <td>1</td>\n",
       "      <td>1</td>\n",
       "      <td>100.00</td>\n",
       "    </tr>\n",
       "    <tr>\n",
       "      <th>69365</th>\n",
       "      <td>50.0</td>\n",
       "      <td>1</td>\n",
       "      <td>1</td>\n",
       "      <td>100.00</td>\n",
       "    </tr>\n",
       "    <tr>\n",
       "      <th>16336</th>\n",
       "      <td>2.0</td>\n",
       "      <td>1</td>\n",
       "      <td>1</td>\n",
       "      <td>100.00</td>\n",
       "    </tr>\n",
       "    <tr>\n",
       "      <th>3049</th>\n",
       "      <td>33.0</td>\n",
       "      <td>1</td>\n",
       "      <td>1</td>\n",
       "      <td>100.00</td>\n",
       "    </tr>\n",
       "    <tr>\n",
       "      <th>263801</th>\n",
       "      <td>25.0</td>\n",
       "      <td>0</td>\n",
       "      <td>0</td>\n",
       "      <td>0.00</td>\n",
       "    </tr>\n",
       "    <tr>\n",
       "      <th>146980</th>\n",
       "      <td>39.0</td>\n",
       "      <td>0</td>\n",
       "      <td>0</td>\n",
       "      <td>39.84</td>\n",
       "    </tr>\n",
       "    <tr>\n",
       "      <th>65321</th>\n",
       "      <td>17.0</td>\n",
       "      <td>1</td>\n",
       "      <td>1</td>\n",
       "      <td>100.00</td>\n",
       "    </tr>\n",
       "    <tr>\n",
       "      <th>81472</th>\n",
       "      <td>17.0</td>\n",
       "      <td>1</td>\n",
       "      <td>1</td>\n",
       "      <td>100.00</td>\n",
       "    </tr>\n",
       "    <tr>\n",
       "      <th>33809</th>\n",
       "      <td>6.0</td>\n",
       "      <td>1</td>\n",
       "      <td>1</td>\n",
       "      <td>100.00</td>\n",
       "    </tr>\n",
       "    <tr>\n",
       "      <th>165617</th>\n",
       "      <td>6.0</td>\n",
       "      <td>0</td>\n",
       "      <td>0</td>\n",
       "      <td>0.08</td>\n",
       "    </tr>\n",
       "    <tr>\n",
       "      <th>88977</th>\n",
       "      <td>5.0</td>\n",
       "      <td>1</td>\n",
       "      <td>1</td>\n",
       "      <td>100.00</td>\n",
       "    </tr>\n",
       "  </tbody>\n",
       "</table>\n",
       "</div>"
      ],
      "text/plain": [
       "        StateProvinceID HighOLow  predictions  propensity_High_Demand(%)\n",
       "287059              3.0        0            0                       0.00\n",
       "116915             32.0        1            1                      99.97\n",
       "19151              21.0        1            1                     100.00\n",
       "5057               39.0        1            1                     100.00\n",
       "10058              14.0        1            1                     100.00\n",
       "158188             34.0        0            0                       1.51\n",
       "98875               3.0        1            1                     100.00\n",
       "61879              46.0        1            1                     100.00\n",
       "235298             17.0        0            0                       0.00\n",
       "18928              15.0        1            1                     100.00\n",
       "69365              50.0        1            1                     100.00\n",
       "16336               2.0        1            1                     100.00\n",
       "3049               33.0        1            1                     100.00\n",
       "263801             25.0        0            0                       0.00\n",
       "146980             39.0        0            0                      39.84\n",
       "65321              17.0        1            1                     100.00\n",
       "81472              17.0        1            1                     100.00\n",
       "33809               6.0        1            1                     100.00\n",
       "165617              6.0        0            0                       0.08\n",
       "88977               5.0        1            1                     100.00"
      ]
     },
     "execution_count": 68,
     "metadata": {},
     "output_type": "execute_result"
    }
   ],
   "source": [
    "final_results = pd.concat([test_identity, y_test], axis = 1).dropna()\n",
    "final_results['predictions'] = yt_pred\n",
    "final_results[\"propensity_High_Demand(%)\"] = y_pred_probs\n",
    "final_results[\"propensity_High_Demand(%)\"] = final_results[\"propensity_High_Demand(%)\"]*100\n",
    "final_results[\"propensity_High_Demand(%)\"]=final_results[\"propensity_High_Demand(%)\"].round(2)\n",
    "final_results = final_results[['StateProvinceID','HighOLow','predictions', 'propensity_High_Demand(%)']]\n",
    "#final_results ['Ranking'] = pd.qcut(final_results['propensity_High_Demand(%)'].rank(method = 'first'),10,labels=range(10,0,-1))\n",
    "final_results.head(20)"
   ]
  },
  {
   "cell_type": "code",
   "execution_count": 71,
   "id": "7413e83d",
   "metadata": {},
   "outputs": [],
   "source": [
    "final_results['Region']=data['Region']"
   ]
  },
  {
   "cell_type": "code",
   "execution_count": 72,
   "id": "18ec949b",
   "metadata": {},
   "outputs": [
    {
     "data": {
      "text/html": [
       "<div>\n",
       "<style scoped>\n",
       "    .dataframe tbody tr th:only-of-type {\n",
       "        vertical-align: middle;\n",
       "    }\n",
       "\n",
       "    .dataframe tbody tr th {\n",
       "        vertical-align: top;\n",
       "    }\n",
       "\n",
       "    .dataframe thead th {\n",
       "        text-align: right;\n",
       "    }\n",
       "</style>\n",
       "<table border=\"1\" class=\"dataframe\">\n",
       "  <thead>\n",
       "    <tr style=\"text-align: right;\">\n",
       "      <th></th>\n",
       "      <th>StateProvinceID</th>\n",
       "      <th>HighOLow</th>\n",
       "      <th>predictions</th>\n",
       "      <th>propensity_High_Demand(%)</th>\n",
       "      <th>Region</th>\n",
       "    </tr>\n",
       "  </thead>\n",
       "  <tbody>\n",
       "    <tr>\n",
       "      <th>287059</th>\n",
       "      <td>3.0</td>\n",
       "      <td>0</td>\n",
       "      <td>0</td>\n",
       "      <td>0.00</td>\n",
       "      <td>Arizona</td>\n",
       "    </tr>\n",
       "    <tr>\n",
       "      <th>116915</th>\n",
       "      <td>32.0</td>\n",
       "      <td>1</td>\n",
       "      <td>1</td>\n",
       "      <td>99.97</td>\n",
       "      <td>New Mexico</td>\n",
       "    </tr>\n",
       "    <tr>\n",
       "      <th>19151</th>\n",
       "      <td>21.0</td>\n",
       "      <td>1</td>\n",
       "      <td>1</td>\n",
       "      <td>100.00</td>\n",
       "      <td>Maryland</td>\n",
       "    </tr>\n",
       "    <tr>\n",
       "      <th>5057</th>\n",
       "      <td>39.0</td>\n",
       "      <td>1</td>\n",
       "      <td>1</td>\n",
       "      <td>100.00</td>\n",
       "      <td>Pennsylvania</td>\n",
       "    </tr>\n",
       "    <tr>\n",
       "      <th>10058</th>\n",
       "      <td>14.0</td>\n",
       "      <td>1</td>\n",
       "      <td>1</td>\n",
       "      <td>100.00</td>\n",
       "      <td>Illinois</td>\n",
       "    </tr>\n",
       "    <tr>\n",
       "      <th>158188</th>\n",
       "      <td>34.0</td>\n",
       "      <td>0</td>\n",
       "      <td>0</td>\n",
       "      <td>1.51</td>\n",
       "      <td>North Carolina</td>\n",
       "    </tr>\n",
       "    <tr>\n",
       "      <th>98875</th>\n",
       "      <td>3.0</td>\n",
       "      <td>1</td>\n",
       "      <td>1</td>\n",
       "      <td>100.00</td>\n",
       "      <td>Arizona</td>\n",
       "    </tr>\n",
       "    <tr>\n",
       "      <th>61879</th>\n",
       "      <td>46.0</td>\n",
       "      <td>1</td>\n",
       "      <td>1</td>\n",
       "      <td>100.00</td>\n",
       "      <td>Utah</td>\n",
       "    </tr>\n",
       "    <tr>\n",
       "      <th>235298</th>\n",
       "      <td>17.0</td>\n",
       "      <td>0</td>\n",
       "      <td>0</td>\n",
       "      <td>0.00</td>\n",
       "      <td>Kansas</td>\n",
       "    </tr>\n",
       "    <tr>\n",
       "      <th>18928</th>\n",
       "      <td>15.0</td>\n",
       "      <td>1</td>\n",
       "      <td>1</td>\n",
       "      <td>100.00</td>\n",
       "      <td>Indiana</td>\n",
       "    </tr>\n",
       "  </tbody>\n",
       "</table>\n",
       "</div>"
      ],
      "text/plain": [
       "        StateProvinceID HighOLow  predictions  propensity_High_Demand(%)  \\\n",
       "287059              3.0        0            0                       0.00   \n",
       "116915             32.0        1            1                      99.97   \n",
       "19151              21.0        1            1                     100.00   \n",
       "5057               39.0        1            1                     100.00   \n",
       "10058              14.0        1            1                     100.00   \n",
       "158188             34.0        0            0                       1.51   \n",
       "98875               3.0        1            1                     100.00   \n",
       "61879              46.0        1            1                     100.00   \n",
       "235298             17.0        0            0                       0.00   \n",
       "18928              15.0        1            1                     100.00   \n",
       "\n",
       "                Region  \n",
       "287059         Arizona  \n",
       "116915      New Mexico  \n",
       "19151         Maryland  \n",
       "5057      Pennsylvania  \n",
       "10058         Illinois  \n",
       "158188  North Carolina  \n",
       "98875          Arizona  \n",
       "61879             Utah  \n",
       "235298          Kansas  \n",
       "18928          Indiana  "
      ]
     },
     "execution_count": 72,
     "metadata": {},
     "output_type": "execute_result"
    }
   ],
   "source": [
    "final_results.head(10)"
   ]
  },
  {
   "cell_type": "code",
   "execution_count": 58,
   "id": "720efd28",
   "metadata": {},
   "outputs": [],
   "source": [
    "HighDemandRegion=final_results[final_results['predictions']==1]"
   ]
  },
  {
   "cell_type": "code",
   "execution_count": 59,
   "id": "40cdf9af",
   "metadata": {},
   "outputs": [
    {
     "data": {
      "text/plain": [
       "Texas                         3697\n",
       "Pennsylvania                  3334\n",
       "California                    3319\n",
       "New York                      3057\n",
       "Ohio                          2390\n",
       "Florida                       2390\n",
       "Minnesota                     2116\n",
       "New Jersey                    2111\n",
       "Missouri                      2049\n",
       "Illinois                      2018\n",
       "New Mexico                    1917\n",
       "Colorado                      1917\n",
       "North Carolina                1859\n",
       "Oklahoma                      1816\n",
       "Washington                    1766\n",
       "Alabama                       1680\n",
       "West Virginia                 1647\n",
       "Louisiana                     1601\n",
       "Kansas                        1586\n",
       "South Carolina                1574\n",
       "Iowa                          1549\n",
       "Indiana                       1546\n",
       "Wisconsin                     1470\n",
       "Georgia                       1422\n",
       "Michigan                      1415\n",
       "Arizona                       1360\n",
       "Alaska                        1344\n",
       "North Dakota                  1291\n",
       "Kentucky                      1251\n",
       "Massachusetts[E]              1247\n",
       "Maryland                      1164\n",
       "South Dakota                  1137\n",
       "Virginia                      1062\n",
       "Oregon                        1015\n",
       "Nebraska                       993\n",
       "Arkansas                       963\n",
       "Idaho                          930\n",
       "Montana                        917\n",
       "Puerto Rico (US Territory)     905\n",
       "Maine                          847\n",
       "Wyoming                        780\n",
       "Vermont                        726\n",
       "Mississippi                    650\n",
       "Nevada                         607\n",
       "Utah                           553\n",
       "Tennessee                      495\n",
       "Connecticut                    407\n",
       "New Hampshire                  281\n",
       "Hawaii                         205\n",
       "Name: Region, dtype: int64"
      ]
     },
     "execution_count": 59,
     "metadata": {},
     "output_type": "execute_result"
    }
   ],
   "source": [
    "HighDemandRegion.Region.value_counts()"
   ]
  },
  {
   "cell_type": "code",
   "execution_count": 60,
   "id": "feaf52b4",
   "metadata": {},
   "outputs": [],
   "source": [
    "top_10 = (final_results['Region'].value_counts()).iloc[:10]"
   ]
  },
  {
   "cell_type": "code",
   "execution_count": 63,
   "id": "314bf253",
   "metadata": {},
   "outputs": [
    {
     "data": {
      "text/plain": [
       "Texas           4629\n",
       "Pennsylvania    4548\n",
       "California      4526\n",
       "New York        4406\n",
       "Florida         4045\n",
       "Ohio            4004\n",
       "Minnesota       3898\n",
       "New Jersey      3889\n",
       "Illinois        3809\n",
       "Missouri        3809\n",
       "Name: Region, dtype: int64"
      ]
     },
     "execution_count": 63,
     "metadata": {},
     "output_type": "execute_result"
    }
   ],
   "source": [
    "top_10"
   ]
  },
  {
   "cell_type": "code",
   "execution_count": 64,
   "id": "17f3e135",
   "metadata": {},
   "outputs": [
    {
     "data": {
      "text/plain": [
       "Text(0, 0.5, 'Ordered Quantity')"
      ]
     },
     "execution_count": 64,
     "metadata": {},
     "output_type": "execute_result"
    },
    {
     "data": {
      "image/png": "[encoded data removed]",
      "text/plain": [
       "<Figure size 640x480 with 1 Axes>"
      ]
     },
     "metadata": {},
     "output_type": "display_data"
    }
   ],
   "source": [
    "top_10.plot(kind='bar')\n",
    "plt.rcParams['font.size'] = 20\n",
    "plt.xlabel(\"Region\")\n",
    "plt.ylabel(\"Ordered Quantity\")"
   ]
  },
  {
   "cell_type": "code",
   "execution_count": null,
   "id": "1383808f",
   "metadata": {},
   "outputs": [],
   "source": []
  },
  {
   "cell_type": "code",
   "execution_count": null,
   "id": "8e874bba",
   "metadata": {},
   "outputs": [],
   "source": []
  }
 ],
 "metadata": {
  "kernelspec": {
   "display_name": "Python 3 (ipykernel)",
   "language": "python",
   "name": "python3"
  },
  "language_info": {
   "codemirror_mode": {
    "name": "ipython",
    "version": 3
   },
   "file_extension": ".py",
   "mimetype": "text/x-python",
   "name": "python",
   "nbconvert_exporter": "python",
   "pygments_lexer": "ipython3",
   "version": "3.11.4"
  }
 },
 "nbformat": 4,
 "nbformat_minor": 5
}
